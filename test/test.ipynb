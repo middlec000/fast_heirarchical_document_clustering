{
 "cells": [
  {
   "cell_type": "code",
   "execution_count": 1,
   "metadata": {},
   "outputs": [],
   "source": [
    "import sys\n",
    "sys.path.insert(1, 'C:/Users/colin/Documents/GitHub/fhdc/src/fhdc')\n",
    "from fhdc_model import FHDC_Model"
   ]
  },
  {
   "cell_type": "code",
   "execution_count": 2,
   "metadata": {},
   "outputs": [],
   "source": [
    "docs = {\n",
    "    \"doc1\": \"one one one two\", # one: 3, two: 1 -> one: 3\n",
    "    \"doc1.4\": \"it is such a it a stop word here plaster wall plaster plaster\",\n",
    "    \"doc0\": \"one one one three three\", # one: 3, three: 2 -> one: 3, three: 2\n",
    "    \"doc2\": \"two two three three\" # two: 2, three: 2 -> two: 2, three: 2\n",
    "}\n",
    "# Vocabulary: {one: 6, two: 2, three: 3}\n",
    "# doc1 -> one: 3/6 = 0.5\n",
    "# doc0 -> one: 3/6 = 0.5, three: 2/4 = 0.5\n",
    "# doc2 -> two: 2/1 = 1, three: 2/4 = 0.5"
   ]
  },
  {
   "cell_type": "code",
   "execution_count": 3,
   "metadata": {},
   "outputs": [
    {
     "name": "stdout",
     "output_type": "stream",
     "text": [
      "Document Name Mapping:\n",
      "{'doc1': 0, 'doc1.4': 1, 'doc0': 2, 'doc2': 3}\n",
      "\n",
      "Vocabulary:\n",
      "id_word={0: 'one', 1: 'plaster', 2: 'three', 3: 'two'}\n",
      "word_id={'one': 0, 'plaster': 1, 'three': 2, 'two': 3}\n",
      "id_count={0: 6, 1: 3, 2: 4, 3: 2}\n",
      "\n",
      "Corpus:\n",
      "0={0: 0.5}\n",
      "1={1: 1.0}\n",
      "2={0: 0.5, 2: 0.5}\n",
      "3={3: 1.0, 2: 0.5}\n",
      "\n",
      "Cluster Nodes:\n",
      "{0: ClusterNode(cluster_id=0, docs=[0], parents=[], intermediate_ancestors=[]), 1: ClusterNode(cluster_id=1, docs=[1], parents=[], intermediate_ancestors=[]), 2: ClusterNode(cluster_id=2, docs=[2], parents=[], intermediate_ancestors=[]), 3: ClusterNode(cluster_id=3, docs=[3], parents=[], intermediate_ancestors=[]), 4: ClusterNode(cluster_id=4, docs=[0, 2], parents=[0, 2], intermediate_ancestors=[]), 5: ClusterNode(cluster_id=5, docs=[3, 0, 2], parents=[3, 4], intermediate_ancestors=[0, 2]), 6: ClusterNode(cluster_id=6, docs=[1, 3, 0, 2], parents=[1, 5], intermediate_ancestors=[0, 2, 3, 4])}\n",
      "\n",
      "Linkage Matrix:\n",
      "[[0.         2.         0.29289322 2.        ]\n",
      " [3.         4.         0.8        3.        ]\n",
      " [1.         5.         1.         4.        ]]\n"
     ]
    },
    {
     "data": {
      "image/png": "[encoded data removed]",
      "text/plain": [
       "<Figure size 432x288 with 1 Axes>"
      ]
     },
     "metadata": {
      "needs_background": "light"
     },
     "output_type": "display_data"
    }
   ],
   "source": [
    "model = FHDC_Model()\n",
    "corpus, name_map, vocabulary = model.preprocess(docs=docs, return_processed=True)\n",
    "\n",
    "print(f'Document Name Mapping:\\n{name_map}')\n",
    "print(f'\\nVocabulary:\\n{vocabulary}')\n",
    "print('\\nCorpus:')\n",
    "for cluster in corpus:\n",
    "    print(f'{cluster}={corpus[cluster]}')\n",
    "\n",
    "model.cluster()\n",
    "\n",
    "print(f'\\nCluster Nodes:\\n{model.cluster_nodes}')\n",
    "print(f'\\nLinkage Matrix:\\n{model.linkage}')\n",
    "\n",
    "model.plot_dendrogram()"
   ]
  },
  {
   "cell_type": "code",
   "execution_count": 4,
   "metadata": {},
   "outputs": [],
   "source": [
    "clustering_step = 2\n",
    "# print(f'\\nCluster Themes at cluster step {clustering_step}: \\n{model.get_clustering_step_theme(clustering_step=clustering_step)}')"
   ]
  }
 ],
 "metadata": {
  "interpreter": {
   "hash": "981d8847c5611d4f5ca261630c0a74af2af6c34e5658a3794778828a8db1ed18"
  },
  "kernelspec": {
   "display_name": "Python 3 (ipykernel)",
   "language": "python",
   "name": "python3"
  },
  "language_info": {
   "codemirror_mode": {
    "name": "ipython",
    "version": 3
   },
   "file_extension": ".py",
   "mimetype": "text/x-python",
   "name": "python",
   "nbconvert_exporter": "python",
   "pygments_lexer": "ipython3",
   "version": "3.8.12"
  }
 },
 "nbformat": 4,
 "nbformat_minor": 2
}
