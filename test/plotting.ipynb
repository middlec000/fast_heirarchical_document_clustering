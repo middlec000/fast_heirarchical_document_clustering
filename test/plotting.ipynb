{
 "cells": [
  {
   "cell_type": "markdown",
   "id": "eabeff59-f4e8-46f2-b615-f8204081e208",
   "metadata": {},
   "source": [
    "# TODO\n",
    "Check out scipy's dendogram:  \n",
    "C:\\Users\\colin\\anaconda3\\Lib\\site-packages\\scipy\\cluster\\heirarchy"
   ]
  },
  {
   "cell_type": "code",
   "execution_count": 1,
   "id": "1912df15-0c8c-4cde-b717-a67c6cbecab8",
   "metadata": {},
   "outputs": [],
   "source": [
    "import numpy\n",
    "from matplotlib import pyplot\n",
    "from dataclasses import dataclass\n",
    "from typing import Dict\n",
    "import sys\n",
    "sys.path.insert(1, 'C:/Users/colin/Documents/GitHub/fhdc/src/fhdc')\n",
    "from data_classes import Level"
   ]
  },
  {
   "cell_type": "code",
   "execution_count": 2,
   "id": "5ecafdde-ae39-4cfb-ab2c-df241ba723e5",
   "metadata": {},
   "outputs": [
    {
     "name": "stdout",
     "output_type": "stream",
     "text": [
      "{0: <data_classes.Level object at 0x00000121D12EB130>, 1: <data_classes.Level object at 0x00000121D12EB0D0>, 2: <data_classes.Level object at 0x00000121D12EB160>}\n"
     ]
    }
   ],
   "source": [
    "# clusters = [0,1,2,3]\n",
    "level0 = Level(\n",
    "    level_id = 0,\n",
    "    clusters = [],\n",
    "    merged_clusters = [0,3],\n",
    "    new_cluster = 4\n",
    ")\n",
    "# clusters = [1,2,4]\n",
    "level1 = Level(\n",
    "    level_id = 1,\n",
    "    clusters = [],\n",
    "    merged_clusters = [2,1],\n",
    "    new_cluster = 5\n",
    ")\n",
    "# clusters = [4,5]\n",
    "level2 = Level(\n",
    "    level_id = 2,\n",
    "    clusters = [],\n",
    "    merged_clusters = [4,5],\n",
    "    new_cluster = 6\n",
    ")\n",
    "# clusters = [6]\n",
    "levels = [level0, level1, level2]\n",
    "levels = dict(zip([0,1,2], levels))\n",
    "print(levels)\n",
    "# Number of initial Clusters = number of Levels + 1"
   ]
  },
  {
   "cell_type": "code",
   "execution_count": 3,
   "id": "f88eef05-2cb0-4ef3-baa3-e4eb9ab970b0",
   "metadata": {},
   "outputs": [],
   "source": [
    "@dataclass\n",
    "class PlottingObject():\n",
    "    x: float\n",
    "    ymin: int\n",
    "    ymax: int"
   ]
  },
  {
   "cell_type": "code",
   "execution_count": null,
   "id": "85a2dc85-64c1-4216-8be2-5cd4238ec567",
   "metadata": {},
   "outputs": [],
   "source": [
    "def first_pass(levels: Dict[int, Level]) -> Dict[int, PlottingObject]:\n",
    "    plotting_objects = {}\n",
    "    original_documents_stop = len(levels)\n",
    "    for level in levels:\n",
    "        for merged_cluster in levels[level].merged_clusters:\n",
    "            if merged_cluster < original_documents_stop:\n",
    "                plotting_objects[merged_cluster] = PlottingObject(x=None, ymin=0, ymax=level)\n",
    "            else:\n",
    "                plotting_objects[merged_cluster] = PlottingObject(x=None, ymin=None, ymax=level)"
   ]
  },
  {
   "cell_type": "code",
   "execution_count": 45,
   "id": "cfc76a31-e53c-4da5-ac2a-39165447611e",
   "metadata": {},
   "outputs": [],
   "source": [
    "def create_dendogram(levels: Lict[int, Level]):\n",
    "    \n",
    "    fig, ax = pyplot.subplots()\n",
    "    # last 2 are paired\n",
    "    last2 = list(xticks.keys())[-2:]\n",
    "    ax.vlines(\n",
    "        x = last2[0],\n",
    "        ymin = 0,\n",
    "        ymax = 1\n",
    "    )\n",
    "    ax.vlines(\n",
    "        x = last2[1],\n",
    "        ymin = 0,\n",
    "        ymax = 1\n",
    "    )\n",
    "    ax.hlines(\n",
    "        y = 1,\n",
    "        xmin = min(last2),\n",
    "        xmax = max(last2)\n",
    "    )\n",
    "    pyplot.xticks(list(xticks.keys()), list(xticks.values()))\n",
    "    pyplot.show()\n",
    "    #for key in list(xticks.keys()).reverse()[:-2]:\n",
    "    return"
   ]
  },
  {
   "cell_type": "code",
   "execution_count": 4,
   "id": "c12ffcaf-06a3-45f6-9fd6-058964d1e1da",
   "metadata": {},
   "outputs": [
    {
     "data": {
      "text/plain": [
       "{0: 1, 1: 2, 2: 3, 3: 0}"
      ]
     },
     "execution_count": 4,
     "metadata": {},
     "output_type": "execute_result"
    }
   ],
   "source": [
    "num_initial_clusters = len(levels) + 1\n",
    "x_tick_labels = []\n",
    "for level in levels:\n",
    "    x_tick_labels += level.merged_clusters\n",
    "x_tick_labels = [label for label in x_tick_labels if label in numpy.arange(0,num_initial_clusters)]\n",
    "x_tick_labels.reverse()\n",
    "xticks = {k:v for k,v in zip(numpy.arange(0,num_initial_clusters), x_tick_labels)}\n",
    "xticks"
   ]
  },
  {
   "cell_type": "code",
   "execution_count": 46,
   "id": "af987836-2ab9-48ec-a403-7980ec11d732",
   "metadata": {},
   "outputs": [
    {
     "data": {
      "image/png": "[encoded data removed]",
      "text/plain": [
       "<Figure size 432x288 with 1 Axes>"
      ]
     },
     "metadata": {
      "needs_background": "light"
     },
     "output_type": "display_data"
    }
   ],
   "source": [
    "create_dendogram(xticks=xticks)"
   ]
  },
  {
   "cell_type": "code",
   "execution_count": 15,
   "id": "98b3ef2f-bb64-4931-9d70-248fb9beaa8b",
   "metadata": {},
   "outputs": [],
   "source": [
    "all_clusters = numpy.arange(0,10)\n",
    "merged_clusters = [3,4]\n",
    "new_cluster = 10\n",
    "\n",
    "start_level=1\n",
    "stop_level=2"
   ]
  },
  {
   "cell_type": "code",
   "execution_count": 26,
   "id": "111257f3-a16a-42d8-9b87-4894fdd10a20",
   "metadata": {},
   "outputs": [
    {
     "data": {
      "image/png": "[encoded data removed]",
      "text/plain": [
       "<Figure size 432x288 with 1 Axes>"
      ]
     },
     "metadata": {
      "needs_background": "light"
     },
     "output_type": "display_data"
    }
   ],
   "source": [
    "fig, ax = pyplot.subplots()\n",
    "for cluster in [x for x in all_clusters if x not in merged_clusters]:\n",
    "    ax.vlines(\n",
    "        x = cluster,\n",
    "        ymin = 0,\n",
    "        ymax = stop_level\n",
    "    )\n",
    "\n",
    "ax.vlines(\n",
    "    x = 3,\n",
    "    ymin = 0,\n",
    "    ymax = 1\n",
    ")\n",
    "ax.vlines(\n",
    "    x = 4,\n",
    "    ymin = 0,\n",
    "    ymax = 1\n",
    ")\n",
    "\n",
    "ax.vlines(\n",
    "    x=sum(merged_clusters)/2,\n",
    "    ymin=start_level,\n",
    "    ymax=stop_level\n",
    ")\n",
    "\n",
    "ax.hlines(\n",
    "    y = 1,\n",
    "    xmin = 3,\n",
    "    xmax = 4\n",
    ")\n",
    "ax.hlines(\n",
    "    y = 2,\n",
    "    xmin = 0,\n",
    "    xmax = 9\n",
    ")\n",
    "\n",
    "pyplot.xticks(all_clusters, numpy.arange(10,20));\n",
    "pyplot.show()"
   ]
  },
  {
   "cell_type": "code",
   "execution_count": 10,
   "id": "8efe9b55-9eb4-4d8c-9475-b5187a4cba34",
   "metadata": {},
   "outputs": [
    {
     "data": {
      "text/plain": [
       "\u001b[1;31mSignature:\u001b[0m\n",
       "\u001b[0mpyplot\u001b[0m\u001b[1;33m.\u001b[0m\u001b[0mvlines\u001b[0m\u001b[1;33m(\u001b[0m\u001b[1;33m\n",
       "\u001b[0m    \u001b[0mx\u001b[0m\u001b[1;33m,\u001b[0m\u001b[1;33m\n",
       "\u001b[0m    \u001b[0mymin\u001b[0m\u001b[1;33m,\u001b[0m\u001b[1;33m\n",
       "\u001b[0m    \u001b[0mymax\u001b[0m\u001b[1;33m,\u001b[0m\u001b[1;33m\n",
       "\u001b[0m    \u001b[0mcolors\u001b[0m\u001b[1;33m=\u001b[0m\u001b[1;32mNone\u001b[0m\u001b[1;33m,\u001b[0m\u001b[1;33m\n",
       "\u001b[0m    \u001b[0mlinestyles\u001b[0m\u001b[1;33m=\u001b[0m\u001b[1;34m'solid'\u001b[0m\u001b[1;33m,\u001b[0m\u001b[1;33m\n",
       "\u001b[0m    \u001b[0mlabel\u001b[0m\u001b[1;33m=\u001b[0m\u001b[1;34m''\u001b[0m\u001b[1;33m,\u001b[0m\u001b[1;33m\n",
       "\u001b[0m    \u001b[1;33m*\u001b[0m\u001b[1;33m,\u001b[0m\u001b[1;33m\n",
       "\u001b[0m    \u001b[0mdata\u001b[0m\u001b[1;33m=\u001b[0m\u001b[1;32mNone\u001b[0m\u001b[1;33m,\u001b[0m\u001b[1;33m\n",
       "\u001b[0m    \u001b[1;33m**\u001b[0m\u001b[0mkwargs\u001b[0m\u001b[1;33m,\u001b[0m\u001b[1;33m\n",
       "\u001b[0m\u001b[1;33m)\u001b[0m\u001b[1;33m\u001b[0m\u001b[1;33m\u001b[0m\u001b[0m\n",
       "\u001b[1;31mDocstring:\u001b[0m\n",
       "Plot vertical lines at each *x* from *ymin* to *ymax*.\n",
       "\n",
       "Parameters\n",
       "----------\n",
       "x : float or array-like\n",
       "    x-indexes where to plot the lines.\n",
       "\n",
       "ymin, ymax : float or array-like\n",
       "    Respective beginning and end of each line. If scalars are\n",
       "    provided, all lines will have same length.\n",
       "\n",
       "colors : list of colors, default: :rc:`lines.color`\n",
       "\n",
       "linestyles : {'solid', 'dashed', 'dashdot', 'dotted'}, optional\n",
       "\n",
       "label : str, default: ''\n",
       "\n",
       "Returns\n",
       "-------\n",
       "`~matplotlib.collections.LineCollection`\n",
       "\n",
       "Other Parameters\n",
       "----------------\n",
       "**kwargs : `~matplotlib.collections.LineCollection` properties.\n",
       "\n",
       "See Also\n",
       "--------\n",
       "hlines : horizontal lines\n",
       "axvline : vertical line across the Axes\n",
       "\n",
       "Notes\n",
       "-----\n",
       "\n",
       "\n",
       ".. note::\n",
       "    In addition to the above described arguments, this function can take\n",
       "    a *data* keyword argument. If such a *data* argument is given,\n",
       "    the following arguments can also be string ``s``, which is\n",
       "    interpreted as ``data[s]`` (unless this raises an exception):\n",
       "    *x*, *ymin*, *ymax*, *colors*.\n",
       "\n",
       "    Objects passed as **data** must support item access (``data[s]``) and\n",
       "    membership test (``s in data``).\n",
       "\u001b[1;31mFile:\u001b[0m      c:\\users\\colin\\anaconda3\\lib\\site-packages\\matplotlib\\pyplot.py\n",
       "\u001b[1;31mType:\u001b[0m      function\n"
      ]
     },
     "metadata": {},
     "output_type": "display_data"
    }
   ],
   "source": [
    "pyplot.vlines?"
   ]
  },
  {
   "cell_type": "code",
   "execution_count": null,
   "id": "c3ebd5eb-a7a8-47ee-842d-3e192a222244",
   "metadata": {},
   "outputs": [],
   "source": []
  }
 ],
 "metadata": {
  "kernelspec": {
   "display_name": "Python 3 (ipykernel)",
   "language": "python",
   "name": "python3"
  },
  "language_info": {
   "codemirror_mode": {
    "name": "ipython",
    "version": 3
   },
   "file_extension": ".py",
   "mimetype": "text/x-python",
   "name": "python",
   "nbconvert_exporter": "python",
   "pygments_lexer": "ipython3",
   "version": "3.8.12"
  }
 },
 "nbformat": 4,
 "nbformat_minor": 5
}
